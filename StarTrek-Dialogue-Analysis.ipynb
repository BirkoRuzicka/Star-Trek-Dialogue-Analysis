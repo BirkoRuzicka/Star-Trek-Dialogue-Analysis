{
 "cells": [
  {
   "cell_type": "markdown",
   "id": "4aaf32ea",
   "metadata": {},
   "source": [
    "# Analysis of „Star Trek“ episode transcripts: Dialogue distribution by gender\n",
    "\n",
    "**A Data Science project by Dr. Birko-Katarina Ruzicka**\n",
    "\n",
    "<br>\n",
    "\n",
    "## Motivation\n",
    "\n",
    "It is no secret that dialogue in movies and series has been unevenly distributed between genders this far ([Source 1](#Bibliography)), although surprisingly few studies have been conducted on the matter so far, and even fewer were published in peer-reviewed journals. Rare and beautiful examples for what could be done include \n",
    "* the outstanding work by Anderson and Daniels titled \"Film Dialogue from 2,000 screenplays, Broken Down by Gender and Age\" ([Source 1](#Bibliography)), and \n",
    "* T. Bowe's \"Stargate SG1 Dialogue Text Analysis\" ([Source 2](#Bibliography)), in which he thoroughly analyses dialogue by character, speech content, and positive vs. negative sentiment across five seasons of a sci-fi show. \n",
    "\n",
    "By the way: Both of these studies are also filled to the brim with beautiful Data Vizualisation graphics! \n",
    "\n",
    "As a lifelong \"trekkie\", I was curious as to how this was handled within the **Star Trek** franchise, a notoriously socially progressive format whose plotlines are frequently driven by themes of morality and tolerance. Star Trek's numerous shows and movies also conveniently cover roughly 60 years of social development. \n",
    "\n",
    "I analysed the transcripts of most Star Trek series for the ratio of male, female, and gender-neutral characters with speaking roles, as well as how many lines of dialogue are spoken by each gender. In particular, I focused on how this distribution changed over time. \n",
    "\n",
    "These are the series I included in the study:\n",
    "\n",
    "|title |&nbsp;| abbreviation |&nbsp;| originally aired|\n",
    ":--- | --- | :---: | --- | ---:\n",
    "|Star Trek: The Original Series||TOS||1966-1969|\n",
    "|Star Trek: The Animated Series||TAS||1973-1974|\n",
    "|Star Trek: The Next Generation||TNG||1987-1994|\n",
    "|Star Trek: Deep Space Nine    ||DS9||1993-1999|\n",
    "|Star Trek: Voyager            ||VOY||1995-2001|\n",
    "|Star Trek: Enterprise         ||ENT||2001-2005|\n",
    "|Star Trek: Discovery          ||DIS||2017-2021|\n",
    "|Star Trek: Picard             ||PIC||2020-2020|\n",
    "\n",
    "<br>"
   ]
  },
  {
   "cell_type": "markdown",
   "id": "4b0b2956",
   "metadata": {},
   "source": [
    "The main steps in this analysis were:\n",
    "\n",
    "1. collecting and preparing the data\n",
    "2. bringing in additional, manually prepared metadata\n",
    "3. analysis of gender in individual series\n",
    "4. analysis of gender across all series with time\n",
    "\n",
    "<br>\n",
    "\n",
    "## 1. Collecting and preparing the data\n",
    "\n",
    "I initially was inspired by, and worked from, a dataset of \"Star Trek Scripts\" from Kaggle ([Source 3](#Bibliography)). While working with this data, however, I noticed some issues that required extensive cleaning, and some issues that I was unable to correct at all. Furthermore, having been created several years ago, the dataset did not include the most recent Star Trek series \"Discovery\" and \"Picard\" (which, spoiler!, have turned out to be pivotal to my analysis).\n",
    "\n",
    "So, in a fit of perfectionism, I wrote my own Python webscraping algorithm to fetch the transcripts to transform the text into a clean, ready-to-use dataset in JSON format. The JSON file and the algorithm are available [in this GitHub repository](https://github.com/BirkoRuzicka/Star-Trek-Transcripts).\n",
    "\n",
    "(***A note on code in this notebook:***\n",
    "*the examples of code I show here are not intended to represent a fully working model of my analysis, but rather to illustrate concepts. The full code is available on GitHub, please use this if you intend to recreate any of my work!*)\n",
    "\n",
    "\n",
    "To begin the analysis, the contents of the JSON file are read into a Pandas dataframe. To prevent the code from being unnecessarily complex, I did this series-by-series. I will now show the code for creating the \"TOS\" segment of the dataframe:"
   ]
  },
  {
   "cell_type": "code",
   "execution_count": null,
   "id": "79eac568",
   "metadata": {},
   "outputs": [],
   "source": [
    "import json\n",
    "import pandas as pd\n",
    "\n",
    "# open the JSON and read each series' entry into a variable\n",
    "with open('StarTrekDialogue.json', 'r') as read_file:\n",
    "    all_series = json.load(read_file)\n",
    "del(read_file)\n",
    "    \n",
    "tos = all_series['TOS']  # ...and so on, for tas, tng, ds9, ...\n",
    "\n",
    "# transform dict -> series -> dataframe\n",
    "tos_series = pd.concat({k: pd.Series(v) for k, v in tos.items()})\n",
    "tos_df = pd.Series.to_frame(tos_series).reset_index()\n",
    "tos_df.columns = ['Episode', 'Character', 'Lines']"
   ]
  },
  {
   "cell_type": "markdown",
   "id": "d2ed5804",
   "metadata": {},
   "source": [
    "This dataframe now contains every line ever spoken on \"TOS\", so in the next step I removed all entries for 'minor characters' who have less than 10 lines of dialogue per episode. This reduces noise and lowers the overall workload in the next step."
   ]
  },
  {
   "cell_type": "code",
   "execution_count": null,
   "id": "06ec11b0",
   "metadata": {},
   "outputs": [],
   "source": [
    "# create additional column in the dataframe to show a character's linecount per episode\n",
    "tos_df['Linecount'] = tos_df['Lines'].str.len()\n",
    "\n",
    "# drop entries where Linecount is less than 10\n",
    "for index in tos_df.index:\n",
    "    if tos_df.at[index, 'Linecount'] < 10:\n",
    "        tos_df.drop(index, axis=0, inplace=True)"
   ]
  },
  {
   "cell_type": "markdown",
   "id": "446fbccb",
   "metadata": {},
   "source": [
    "## 2. Additional metadata\n",
    "\n",
    "In addition to the information on episode number, character name, and lines spoken by the character, I needed the following additional metadata for the episodes and characters:\n",
    "\n",
    "* **season** of the episode within the series\n",
    "* **year** when the episode was first aired on U.S. tv (and for DIS and PIC, on streaming services)\n",
    "* **episode title** for personal orientation within the series\n",
    "* **character gender**\n",
    "\n",
    "The first three items were easily extracted from Wikipedia (and saved in a CSV file for later use), but the characters' gender had to be assessed manually. Working from a list of unique character names of the series "
   ]
  },
  {
   "cell_type": "code",
   "execution_count": null,
   "id": "e78c7254",
   "metadata": {},
   "outputs": [],
   "source": [
    "tos_df['Character'].unique()"
   ]
  },
  {
   "cell_type": "markdown",
   "id": "d66f5e22",
   "metadata": {},
   "source": [
    "I cross-referenced the fandom encyclopedia [Memory Alpha](https://memory-alpha.fandom.com/), my memory, and in some inconclusive cases even the episode's video itself, to compile a CSV file of the gender for each character with at least 10 lines in the respective episode. \n",
    "\n",
    "To illustrate the scale of this endeavour:\n",
    "\n",
    "|series          |TOS|TAS|TNG|DS9|VOY|ENT|DIS|PIC|\n",
    "|---             |---|---|---|---|---|---|---|---|\n",
    "|character count |229| 49|419|362|385|211| 74| 33|\n",
    "\n",
    "<br><br>\n",
    "\n",
    "***A note on \"gender\" in this study***\n",
    "\n",
    "*Rarely in Star Trek is a character's gender explicitly stated on screen, except for episodes that expressly deal with gender. Notable examples of such episodes include \"The Outcast\" (TNG, season 5, episode 17) and \"Cogenitor\" (ENT, season 2, episode 22). Much could and should be said about gender expression in Star Trek, but that is not the scope of this project. If anyone reading this feels the calling to expand on this further, I fiercely encourage you to get in touch with me!*\n",
    "\n",
    "*For the purpose of this study, I assigned characters the gender which they were expressing to the viewer. In almost every case, I found the characters' gender expression to be stereotypical, sometimes to an amusing degree. However, in the few ambiguous cases I relied on how the character referred to themselves or was referred to by another in dialogue, as well as background knowledge on the character. For example:*\n",
    "\n",
    "*- the ship's computer generally speaks in a female-coded voice (fellow trekkies will know that it was indeed the voice of Majel Barret, the wife of Gene Roddenberry himself). However, the computer never expresses gender, nor is it ever addressed as anything other than \"it\", so I classified it as genderneutral*\n",
    "\n",
    "*- the Voyager's \"Emergency Medical Hologram\" is a non-corporeal computer program, so it is not \"alive\" and does not have a gender in the conventional sense. But it is generally referred to as \"he\", the crew members treat it as a person, and we come to understand throughout the plot that it is evolving self-awareness as a male person. I therefore classified this character as male*\n",
    "\n",
    "*- Next Generation's \"Data\" is an android, whose outward gender expression is distinctly male. Furthermore, Data is consistently portrayed as self-aware and is shown to understand himself as male, so I classified him as male*\n",
    "\n",
    "<br>\n",
    "\n",
    "Once I had compiled both files of additional data, I added them to the dataframe and re-ordered the columns:\n"
   ]
  },
  {
   "cell_type": "code",
   "execution_count": null,
   "id": "dc64d9d9",
   "metadata": {},
   "outputs": [],
   "source": [
    "# open csv files\n",
    "tos_data = pd.read_csv('additional_data/tos_data.csv', index_col=0, delimiter=';')\n",
    "tos_gender = pd.read_csv('additional_data/tos_gender.csv',\n",
    "                                 header=None, index_col=0, squeeze=True, delimiter=';').to_dict()\n",
    "\n",
    "# the season-year-episodetitle data can simply be merged to the df,\n",
    "# as it's in the same format (one entry per episode)\n",
    "tos_df = tos_df.merge(tos_data, left_on='Episode', right_index=True)\n",
    "        \n",
    "# the gender data has to be mapped to the dataframe, as characters appear in multiple episodes  \n",
    "tos_df['Gender'] = tos_df['Character'].map(tos_gender)\n",
    "        \n",
    "# re-order columns\n",
    "tos_df = tos_df[['Episode', 'Season', 'Year', 'Title', 'Character', 'Gender', 'Lines', 'Linecount']]"
   ]
  },
  {
   "cell_type": "markdown",
   "id": "624e0010",
   "metadata": {},
   "source": [
    "## 3. Analysis of individual series\n",
    "\n",
    "First, I looked at the gender ratio of the individual series, both in total as well as broken down by season.\n",
    "\n",
    "### Characters per gender, whole series\n",
    "\n",
    "The function `characters_by_gender` receives the name of a dataframe, for example `tos_df`, and then runs through the dataframe row by row, sorting the row's field for \"Character\" into a dictionary depending on the row's field for \"Gender\". Then, as several characters appear in multiple episodes, I counted the unique entries in each list.\n",
    "\n",
    "(Note: there are other ways to achieve the same goal, e.g. using `df.groupby(['Gender'])`, but my brain found my approach the easiest to follow)"
   ]
  },
  {
   "cell_type": "code",
   "execution_count": null,
   "id": "8fa40cb0",
   "metadata": {},
   "outputs": [],
   "source": [
    "def characters_by_gender(dataframe):\n",
    "    characters_gender = {'m': [], 'f': [], 'n': []}\n",
    "    for i in dataframe.index:\n",
    "        if dataframe['Gender'][i] == 'm':\n",
    "            char_gender['m'].append(dataframe['Character'][i])\n",
    "        elif dataframe['Gender'][i] == 'f':\n",
    "            char_gender['f'].append(dataframe['Character'][i])\n",
    "        elif dataframe['Gender'][i] == 'n':\n",
    "            char_gender['n'].append(dataframe['Character'][i])\n",
    "\n",
    "    char_m = len(np.unique(char_gender['m']))\n",
    "    char_f = len(np.unique(char_gender['f']))\n",
    "    char_n = len(np.unique(char_gender['n']))"
   ]
  },
  {
   "cell_type": "markdown",
   "id": "5eb14880",
   "metadata": {},
   "source": [
    "I visualized the results in a pie chart:"
   ]
  },
  {
   "cell_type": "code",
   "execution_count": null,
   "id": "54f3046f",
   "metadata": {},
   "outputs": [],
   "source": [
    "plt.pie([char_m, char_f, char_n],\n",
    "        labels=['male', 'female', 'genderneutral'],\n",
    "        shadow=False,\n",
    "        startangle=90,\n",
    "        autopct='%1.0f%%',\n",
    "        colors=['#0471CE', '#E52222', '#BBBBBB'])"
   ]
  },
  {
   "cell_type": "markdown",
   "id": "b142ce20",
   "metadata": {},
   "source": [
    "Some results:\n",
    "\n",
    "<table>\n",
    "    <tr>\n",
    "        <td>\n",
    "            <img src='https://raw.githubusercontent.com/BirkoRuzicka/blob/main/images/tos_characters2.png', height=300>\n",
    "        </td>\n",
    "        <td>\n",
    "            <img src='https://raw.githubusercontent.com/BirkoRuzicka/blob/main/images/voy_characters2.png', height=300>\n",
    "        </td>\n",
    "    </tr>\n",
    "</table>\n",
    "\n",
    "...wait. So the ratio of female characters is actually **lower** in VOY, a show with a female captain, aired 30 years after TOS? That does not look like progress yet.\n",
    "\n",
    "### Lines by gender, whole series\n",
    "\n",
    "Let's see how much characters of each gender get to say in each show though. The function `lines_per_gender` once again receives a dataframe, runs through the dataframe row by row, and adds the field for \"Linecount\" to a dictionary depending on the row's field \"Gender\":"
   ]
  },
  {
   "cell_type": "code",
   "execution_count": null,
   "id": "08cb2942",
   "metadata": {},
   "outputs": [],
   "source": [
    "def lines_by_gender(dataframe):\n",
    "    lines_by_gender = defaultdict(np.int64)\n",
    "    for i in dataframe.index:\n",
    "        lines_by_gender[dataframe['Gender'][i]] += dataframe['Linecount'][i]   \n",
    "        \n",
    "# pie chart\n",
    "plt.pie([lines_by_gender['m'], lines_by_gender['f'], lines_by_gender['n']],\n",
    "        labels=['male', 'female', 'genderneutral'],\n",
    "        shadow=False, \n",
    "        startangle=90,\n",
    "        autopct='%1.0f%%',\n",
    "        colors=['#0471CE', '#E52222', '#BBBBBB'])"
   ]
  },
  {
   "attachments": {},
   "cell_type": "markdown",
   "id": "532d990e",
   "metadata": {},
   "source": [
    "The resulting pie charts:\n",
    "\n",
    "<table>\n",
    "    <tr>\n",
    "        <td>\n",
    "            <img src='https://raw.githubusercontent.com/BirkoRuzicka/blob/main/images/tos_lines2.png', height=300>\n",
    "        </td>\n",
    "        <td>\n",
    "            <img src='https://raw.githubusercontent.com/BirkoRuzicka/blob/main/images/voy_lines2.png', height=300>\n",
    "        </td>\n",
    "    </tr>\n",
    "</table>\n",
    "\n",
    "Okay, some improvement there."
   ]
  },
  {
   "cell_type": "markdown",
   "id": "61be17d6",
   "metadata": {},
   "source": [
    "### Most loquacious characters\n",
    "\n",
    "<div style=\"width: 100%; font-weight:bold;\">\n",
    "    <div style=\"width: 50%; float: left; text-align: center; \">TOS:</div>\n",
    "    <div style=\"width: 50%; float: right;text-align: center; \">VOY:</div>\n",
    "</div>\n",
    "\n",
    " \n",
    "<div style=\"width: 100%;\">\n",
    "<div style=\"width: 50%; float: left;\">\n",
    "\n",
    "|character|lines overall|gender|\n",
    "|:---     |         ---:|  ---:|\n",
    "|KIRK     |  9074       |    m |\n",
    "|SPOCK    |  4580       |    m |\n",
    "|MCCOY    |  2552       |    m |\n",
    "|SCOTT    |  1378       |    m |\n",
    "|SULU     |   785       |    m |\n",
    "|UHURA    |   751       | **f**|\n",
    "|CHEKOV   |   474       |    m |\n",
    "|PIKE     |   222       |    m |\n",
    "|CHAPEL   |   194       | **f**|\n",
    "|MUDD     |   150       |    m |\n",
    "    \n",
    "</div>\n",
    "\n",
    "<div style=\"width: 50%; float: right;\">\n",
    "\n",
    "|character|lines overall|gender|\n",
    "|:---     |         ---:|  ---:|\n",
    "|JANEWAY  | 11717       | **f**|\n",
    "|EMH      |  5713       |    m |\n",
    "|CHAKOTAY |  5702       |    m |\n",
    "|PARIS    |  5110       |    m |\n",
    "|TUVOK    |  4681       |    m |\n",
    "|KIM      |  4489       |    m |\n",
    "|TORRES   |  4483       | **f**|\n",
    "|SEVEN    |  4143       | **f**|\n",
    "|NEELIX   |  3297       |    m |\n",
    "|KES      |  1273       | **f**|\n",
    "\n",
    "</div>\n",
    "</div>"
   ]
  },
  {
   "cell_type": "markdown",
   "id": "26307031",
   "metadata": {},
   "source": [
    "<br>\n",
    "From this we see that in the their respective \"Top 10 Characters\", VOY has twice as many speaking characters as TOS, and they have a lot more to say too. I would therefore conclude that in VOY, more of the minor characters with speaking roles are male, than in TOS."
   ]
  },
  {
   "cell_type": "markdown",
   "id": "096a3809",
   "metadata": {},
   "source": [
    "### Characters and lines by gender, by season\n",
    "\n",
    "The gender ratio per season is found similarly to the method shown above, except that an additional outer for-loop is needed to run through the series' dataframe several times, season by season.\n",
    "\n",
    "To find the gender ratio for characters:"
   ]
  },
  {
   "cell_type": "code",
   "execution_count": null,
   "id": "8c4b5063",
   "metadata": {},
   "outputs": [],
   "source": [
    "dataframe = tos_df\n",
    "\n",
    "seasons = list(dataframe['Season'].unique())\n",
    "char_gender_seasons = np.empty(len(seasons), dtype=dict)\n",
    "male, female, neutral = [], [], []\n",
    "\n",
    "for seasonnumber, season in enumerate(seasons):\n",
    "    char_gender = {'m': [], 'f': [], 'n': []}\n",
    "    for i in dataframe.index:\n",
    "        if dataframe['Season'][i] == season:\n",
    "            if dataframe['Gender'][i] == 'm':\n",
    "                char_gender['m'].append(dataframe['Character'][i])\n",
    "            elif dataframe['Gender'][i] == 'f':\n",
    "                char_gender['f'].append(dataframe['Character'][i])\n",
    "            elif dataframe['Gender'][i] == 'n':\n",
    "                char_gender['n'].append(dataframe['Character'][i])\n",
    "    char_gender_seasons[seasonnumber] = char_gender\n",
    "    male.append(len(np.unique(char_gender['m'])))\n",
    "    female.append(len(np.unique(char_gender['f'])))\n",
    "    neutral.append(len(np.unique(char_gender['n'])))"
   ]
  },
  {
   "cell_type": "markdown",
   "id": "c2aec43a",
   "metadata": {},
   "source": [
    "To visualize the result as a bar chart:"
   ]
  },
  {
   "cell_type": "code",
   "execution_count": null,
   "id": "5d5cdfb1",
   "metadata": {},
   "outputs": [],
   "source": [
    "series = 'The Original Series (TOS)'\n",
    "\n",
    "fig, ax = plt.subplots()\n",
    "x  = np.arange(len(seasons))\n",
    "ax.bar(x - 0.2, male, 0.2, label='male', color='#0471CE')\n",
    "ax.bar(x + 0, female, 0.2, label='female', color='#E52222')\n",
    "ax.bar(x + 0.2, neutral, 0.2, label='neutral', color='#BBBBBB')\n",
    "ax.set_ylabel('Number of characters with dialogue')\n",
    "ax.set_xticks(x)\n",
    "ax.set_xticklabels(seasons)\n",
    "ax.legend()\n",
    "ax.set_title(f'Characters by gender, by season, for {series}')\n",
    "plt.show()"
   ]
  },
  {
   "cell_type": "markdown",
   "id": "e4768c50",
   "metadata": {},
   "source": [
    "<table>\n",
    "    <tr>\n",
    "        <td>\n",
    "            <img src='https://raw.githubusercontent.com/BirkoRuzicka/blob/main/images/tos_characters_time.png', height=200>\n",
    "        </td>\n",
    "        <td>\n",
    "            <img src='https://raw.githubusercontent.com/BirkoRuzicka/blob/main/images/voy_characters_time.png', height=200>\n",
    "        </td>\n",
    "    </tr>\n",
    "</table>"
   ]
  },
  {
   "cell_type": "markdown",
   "id": "4186d379",
   "metadata": {},
   "source": [
    "The method for finding the gender ratio for lines is analogous and results in this:\n",
    "\n",
    "<table>\n",
    "    <tr>\n",
    "        <td>\n",
    "            <img src='https://raw.githubusercontent.com/BirkoRuzicka/blob/main/images/tos_lines_time.png', height=200>\n",
    "        </td>\n",
    "        <td>\n",
    "            <img src='https://raw.githubusercontent.com/BirkoRuzicka/blob/main/images/voy_lines_time.png', height=200>\n",
    "        </td>\n",
    "    </tr>\n",
    "</table>"
   ]
  },
  {
   "cell_type": "markdown",
   "id": "ed103270",
   "metadata": {},
   "source": [
    "## 4. Analysis of gender across all series with time\n",
    "\n",
    "Finally, the most exciting part: A time series of gender^ ratios for all series of the Star Trek canon.\n",
    "\n",
    "To tackle this, I first concatenated all series' dataframes into one massive dataframe `st_df`, in which each row represents one episode (760 episodes total). For each episode, I summed up the characters and linecounts based on gender.\n",
    "\n",
    "Then I added additional columns, which are computationally derived from the existing ones:\n",
    "* Char_total (sum of all characters with speaking roles for the episode)\n",
    "* Char_m_rel, Char_f_rel (ratio of male and female characters, relative to Char_total)\n",
    "* Lines_total (analogous to Char_total)\n",
    "* Lines_m_rel, Lines_f_rel\n",
    "\n",
    "---\n",
    "^ in the following steps I focussed on male and female characters and left out the genderneutral ones, mainly because they are regrettably low in number. I did this in an effort to produce plots that are simpler to understand, with no intention to be dismissive of any gender."
   ]
  },
  {
   "cell_type": "code",
   "execution_count": null,
   "id": "6e7c7aea",
   "metadata": {},
   "outputs": [],
   "source": [
    "# plot gender-ratio of characters, for each episode\n",
    "fig, ax = plt.subplots()\n",
    "ax.plot(st_df['Airdate'], chars_m_rel, alpha=0.2, c='#0471CE')        # male data - blue\n",
    "ax.plot(st_df['Airdate'], st_df['Char_m_rel'], 'h', markersize=1.6,\n",
    "        label='male', c='#0471CE')\n",
    "ax.plot(st_df['Airdate'], chars_f_rel, alpha=0.2, c='#E52222')        # female data - red\n",
    "ax.plot(st_df['Airdate'], st_df['Char_f_rel'], 'h', markersize=1.6,\n",
    "        label='female', c='#E52222')\n",
    "ax.legend(loc=1)\n",
    "ax.set_xlabel(\"Year of episode's original air date (US)\")\n",
    "ax.set_ylabel('% of characters per episode')\n",
    "ax.set_title('Development of characters per gender (%) with time')\n",
    "ax.set_ylim([-0.12, max(st_df['Char_m_rel']) + 0.12])\n",
    "plt.annotate('TOS', xy=(1967, -0.09))\n",
    "plt.annotate('TAS', xy=(1973, -0.09))\n",
    "plt.annotate('TNG', xy=(1990, -0.09))\n",
    "plt.annotate('DS9', xy=(1994, -0.09))\n",
    "plt.annotate('VOY', xy=(1998, -0.09))\n",
    "plt.annotate('ENT', xy=(2003, -0.09))\n",
    "plt.annotate('DIS', xy=(2016, -0.09))\n",
    "plt.annotate('PIC', xy=(2020, -0.09))\n",
    "plt.show()"
   ]
  },
  {
   "cell_type": "markdown",
   "id": "44c56d84",
   "metadata": {},
   "source": [
    "The result:\n",
    "<br>\n",
    "\n",
    "<table>\n",
    "    <tr>\n",
    "        <td>\n",
    "            <img src='https://raw.githubusercontent.com/BirkoRuzicka/blob/main/images/st_character_ratio_episodes.png', width=600>\n",
    "        </td>\n",
    "    </tr>\n",
    "</table>\n",
    "\n",
    "Here we see that the ratio of male and female characters converge over time, and it appears that in the two youngest shows, gender parity in characters was achieved. "
   ]
  },
  {
   "cell_type": "markdown",
   "id": "7123613f",
   "metadata": {},
   "source": [
    "This trend is even more distinct in lines per gender, shown below with trendlines for emphasis:\n",
    "\n",
    "<table>\n",
    "    <tr>\n",
    "        <td>\n",
    "            <img src='https://raw.githubusercontent.com/BirkoRuzicka/blob/main/images/st_line_ratio_episodes.png', width=600>\n",
    "        </td>\n",
    "    </tr>\n",
    "</table>"
   ]
  },
  {
   "cell_type": "markdown",
   "id": "8c6961bb",
   "metadata": {},
   "source": [
    "## Bibliography\n",
    "<a id='bibliography'></a>\n",
    "\n",
    "[1] \tH. Anderson und M. Daniels, „Film Dialogue from 2,000 screenplays, Broken Down by Gender and Age,“ 2016, https://pudding.cool/2017/03/film-dialogue/.\n",
    "<br><br>\n",
    "[2] \tT. Bowe, „Stargate SG1 Dialogue Text Analysis,“ 2021, https://www.kaggle.com/tombowe/stargate-sg1-dialogue-text-analysis.\n",
    "<br><br>\n",
    "[3] \tG. Broughton, „Kaggle - Star Trek Scripts,“ 2018, https://www.kaggle.com/gjbroughton/start-trek-scripts."
   ]
  }
 ],
 "metadata": {
  "kernelspec": {
   "display_name": "Python 3",
   "language": "python",
   "name": "python3"
  },
  "language_info": {
   "codemirror_mode": {
    "name": "ipython",
    "version": 3
   },
   "file_extension": ".py",
   "mimetype": "text/x-python",
   "name": "python",
   "nbconvert_exporter": "python",
   "pygments_lexer": "ipython3",
   "version": "3.8.10"
  }
 },
 "nbformat": 4,
 "nbformat_minor": 5
}
